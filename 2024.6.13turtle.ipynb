{
 "cells": [
  {
   "cell_type": "code",
   "execution_count": 3,
   "id": "edf02386",
   "metadata": {},
   "outputs": [],
   "source": [
    "import turtle as t\n",
    "# t.setup()\n",
    "t.goto(100,100)\n",
    "t.goto(100,-100)\n",
    "t.goto(-100,-100)\n",
    "t.goto(-100,100)\n",
    "t.goto(0,0)\n",
    "t.done()"
   ]
  },
  {
   "cell_type": "code",
   "execution_count": 5,
   "id": "9d677ea2",
   "metadata": {},
   "outputs": [],
   "source": [
    "import turtle as t\n",
    "# t.setup()\n",
    "t.left(45)\n",
    "t.fd(100)\n",
    "t.right(135)\n",
    "t.fd(300)\n",
    "t.left(135)\n",
    "t.fd(100)\n",
    "t.done()"
   ]
  },
  {
   "cell_type": "code",
   "execution_count": 7,
   "id": "74d59bfc",
   "metadata": {},
   "outputs": [],
   "source": [
    "import turtle\n",
    "turtle.hideturtle()\n",
    "turtle.color('black','red')#画笔颜色，填充颜色\n",
    "turtle.speed(10)\n",
    "turtle.begin_fill()\n",
    "for x in range(100):\n",
    "    turtle.fd(x)\n",
    "    turtle.right(90)\n",
    "turtle.end_fill()\n",
    "turtle.done()"
   ]
  },
  {
   "cell_type": "code",
   "execution_count": 9,
   "id": "f7af649d",
   "metadata": {},
   "outputs": [],
   "source": [
    "# 画一只蛇\n",
    "import turtle as t\n",
    "t.setup(650,350,200,200)\n",
    "t.penup()\n",
    "t.fd(-250)\n",
    "t.pendown()\n",
    "t.pensize(25)\n",
    "t.pencolor(\"pink\")\n",
    "t.seth(-40)\n",
    "for x in range(4):\n",
    "    t.circle(40,80)\n",
    "    t.circle(-40,80)\n",
    "t.circle(40, 80/2)\n",
    "t.fd(50)\n",
    "t.circle(20,180)\n",
    "t.fd(50)\n",
    "t.done()"
   ]
  },
  {
   "cell_type": "code",
   "execution_count": null,
   "id": "f5ea56d3",
   "metadata": {},
   "outputs": [],
   "source": []
  }
 ],
 "metadata": {
  "kernelspec": {
   "display_name": "Python (aenv)",
   "language": "python",
   "name": "aenv"
  },
  "language_info": {
   "codemirror_mode": {
    "name": "ipython",
    "version": 3
   },
   "file_extension": ".py",
   "mimetype": "text/x-python",
   "name": "python",
   "nbconvert_exporter": "python",
   "pygments_lexer": "ipython3",
   "version": "3.10.14"
  }
 },
 "nbformat": 4,
 "nbformat_minor": 5
}
