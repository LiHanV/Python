{
 "cells": [
  {
   "cell_type": "code",
   "execution_count": 1,
   "id": "c3cacc70",
   "metadata": {},
   "outputs": [
    {
     "name": "stdout",
     "output_type": "stream",
     "text": [
      "absdfg\n",
      "这里是一个双引号\"\"\n",
      "这里是一个单引号''\n",
      "这里有转义字符\"\"\n",
      "这里可以换行\n",
      "      既有单引号''\n",
      "      又有双引号\"\"\n"
     ]
    }
   ],
   "source": [
    "print('absdfg')\n",
    "print('这里是一个双引号\"\"')\n",
    "print(\"这里是一个单引号''\")\n",
    "print(\"这里有转义字符\\\"\\\"\")\n",
    "print('''这里可以换行\n",
    "      既有单引号''\n",
    "      又有双引号\"\"''')"
   ]
  },
  {
   "cell_type": "markdown",
   "id": "46674d04",
   "metadata": {},
   "source": [
    "<h1>字符串索引</h1>"
   ]
  },
  {
   "cell_type": "code",
   "execution_count": 12,
   "id": "9499cc93",
   "metadata": {},
   "outputs": [
    {
     "name": "stdout",
     "output_type": "stream",
     "text": [
      "this is a demonstration of string.\n",
      "t\n",
      ".\n",
      "thi\n",
      "ng\n",
      "ng.\n"
     ]
    }
   ],
   "source": [
    "print('this is a demonstration of string.')\n",
    "str1='this is a demonstration of string.'\n",
    "print('this is a demonstration of string.'[0])\n",
    "print('this is a demonstration of string.'[-1])\n",
    "print(str1[0:3])\n",
    "print(str1[-3:-1])#左闭右开\n",
    "print(str1[-3:-1],end=\"\")\n",
    "print(str1[-1])"
   ]
  },
  {
   "cell_type": "markdown",
   "id": "b2da1a87",
   "metadata": {},
   "source": [
    "<b>\\n 回车换行(在字符的最后换行到下一行行首)</b><br>\n",
    "<b>\\r 回车（将当前字符行清空并将光标定位到该行首位）</b>"
   ]
  },
  {
   "cell_type": "code",
   "execution_count": 10,
   "id": "3755b4b1",
   "metadata": {},
   "outputs": [
    {
     "name": "stdout",
     "output_type": "stream",
     "text": [
      "hello\r",
      " my name is Antina\n",
      "hello\n",
      " my name is Antina\n",
      "hello\n",
      " my\n",
      " name\r",
      " is Antina\n"
     ]
    }
   ],
   "source": [
    "print('hello\\r my name is Antina')\n",
    "print('hello\\n my name is Antina')\n",
    "print('hello\\n my\\n name\\r is Antina')"
   ]
  },
  {
   "cell_type": "code",
   "execution_count": 16,
   "id": "042170cf",
   "metadata": {},
   "outputs": [
    {
     "name": "stdout",
     "output_type": "stream",
     "text": [
      "ASGBJSGJ\n",
      "5\n"
     ]
    }
   ],
   "source": [
    "print('ASGbjsGJ'.upper())\n",
    "print(\"An apple a day, keeps doctor away.\".count('a'))"
   ]
  },
  {
   "cell_type": "code",
   "execution_count": 21,
   "id": "cf8e4ee2",
   "metadata": {},
   "outputs": [
    {
     "name": "stdout",
     "output_type": "stream",
     "text": [
      "2026-6-14:计算机C的CPU占有率为10%\n",
      "2026-6-14:计算机C的CPU占有率为10%\n"
     ]
    }
   ],
   "source": [
    "print(\"{0}:计算机{1}的CPU占有率为{2}%\".format(\"2026-6-14\",\"C\",10))\n",
    "print(\"{1}:计算机{0}的CPU占有率为{2}%\".format(\"C\",\"2026-6-14\",10))"
   ]
  },
  {
   "cell_type": "markdown",
   "id": "9cfa7515",
   "metadata": {},
   "source": [
    "<h1>Unicode编码</h1>"
   ]
  },
  {
   "cell_type": "code",
   "execution_count": 7,
   "id": "e35aad2e",
   "metadata": {},
   "outputs": [
    {
     "name": "stdout",
     "output_type": "stream",
     "text": [
      "1+1=2✔\n",
      "8367\n"
     ]
    }
   ],
   "source": [
    "print(\"1+1=2\"+chr(10004))\n",
    "print(ord('₯'))"
   ]
  },
  {
   "cell_type": "markdown",
   "id": "b6386aa6",
   "metadata": {},
   "source": [
    "<h1>时间和日期</h1>"
   ]
  },
  {
   "cell_type": "code",
   "execution_count": 11,
   "id": "2c9470d1",
   "metadata": {},
   "outputs": [
    {
     "name": "stdout",
     "output_type": "stream",
     "text": [
      "2024-06-14 07:26:54\n",
      "Fri Jun 14 15:26:54 2024\n"
     ]
    }
   ],
   "source": [
    "import time\n",
    "t1=time.gmtime()#英国标准时间\n",
    "print(time.strftime(\"%Y-%m-%d %H:%M:%S\",t1))\n",
    "t2=time.ctime()#北京时间\n",
    "print(t2)"
   ]
  },
  {
   "cell_type": "code",
   "execution_count": 18,
   "id": "bdd487b5",
   "metadata": {},
   "outputs": [
    {
     "name": "stdout",
     "output_type": "stream",
     "text": [
      "100\n",
      "100\n",
      "100\n",
      "100\n",
      "100\n",
      "100\n",
      "100\n",
      "100\n",
      "100\n",
      "100\n",
      "38.070537700001296\n"
     ]
    }
   ],
   "source": [
    "import time\n",
    "start=time.perf_counter()#时间计时器\n",
    "for x in range(10):\n",
    "    x = 100\n",
    "    print(x)\n",
    "    time.sleep(3.8)#睡眠3.8秒\n",
    "end=time.perf_counter()\n",
    "print(end-start)"
   ]
  },
  {
   "cell_type": "code",
   "execution_count": 19,
   "id": "4f114120",
   "metadata": {},
   "outputs": [
    {
     "name": "stdout",
     "output_type": "stream",
     "text": [
      "100%"
     ]
    }
   ],
   "source": [
    "import time\n",
    "for i in range(101):\n",
    "    print('\\r{:3}%'.format(i),end=\"\")\n",
    "    time.sleep(0.5)"
   ]
  }
 ],
 "metadata": {
  "kernelspec": {
   "display_name": "Python (aenv)",
   "language": "python",
   "name": "aenv"
  },
  "language_info": {
   "codemirror_mode": {
    "name": "ipython",
    "version": 3
   },
   "file_extension": ".py",
   "mimetype": "text/x-python",
   "name": "python",
   "nbconvert_exporter": "python",
   "pygments_lexer": "ipython3",
   "version": "3.10.14"
  }
 },
 "nbformat": 4,
 "nbformat_minor": 5
}
